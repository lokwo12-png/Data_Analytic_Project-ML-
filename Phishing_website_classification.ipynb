{
 "cells": [
  {
   "cell_type": "markdown",
   "id": "286710b5",
   "metadata": {},
   "source": [
    "# Data Analytics Project: Phishing Website Classification using Machine Learning.\n",
    "**Course:** Data Analystics and (Data Driven Decision)\n",
    "\n",
    "**Objective:** Apply descriptive and predictive analytics to classify websites as legitimate, suspicious, or phishy using the UCI Website Phishing dataset.\n"
   ]
  },
  {
   "cell_type": "markdown",
   "id": "307c381f",
   "metadata": {},
   "source": [
    "## 1. Dataset Description\n",
    "This dataset is designed for the classification task of identifying whether a given website is legitimate potentially phishing or Suspecious. It contains a total of 1,353 website instances, each characterized by 9 numerical features and a binary target variable indicating the classification `Result`.\n",
    "- Format: ARFF\n",
    "- 1353 instances (websites)\n",
    "- 9 features + 1 target (`Result`)\n",
    "- Classes:\n",
    "  - `-1`: Phishing\n",
    "  - `0`: Suspicious\n",
    "  - `1`: Legitimate"
   ]
  },
  {
   "cell_type": "code",
   "execution_count": null,
   "id": "0aff5338",
   "metadata": {},
   "outputs": [],
   "source": [
    "import arff\n",
    "import pandas as pd\n",
    "import numpy as np\n",
    "import seaborn as sns\n",
    "import matplotlib.pyplot as plt\n",
    "from sklearn.decomposition import PCA\n",
    "from sklearn.model_selection import train_test_split\n",
    "from sklearn.tree import DecisionTreeClassifier\n",
    "from sklearn.metrics import classification_report, confusion_matrix"
   ]
  }
 ],
 "metadata": {
  "language_info": {
   "name": "python"
  }
 },
 "nbformat": 4,
 "nbformat_minor": 5
}
